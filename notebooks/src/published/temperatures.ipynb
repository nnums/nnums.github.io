{
 "cells": [
  {
   "cell_type": "markdown",
   "metadata": {},
   "source": [
    "# Fahrenheit, Celsius, Kelvin, Rankine, and More"
   ]
  },
  {
   "cell_type": "code",
   "execution_count": null,
   "metadata": {},
   "outputs": [],
   "source": [
    "landmarks = {\n",
    "    \"Absolute Zero\": 0,\n",
    "    \"H2O freezing point\": 273.15,\n",
    "    \"H2O boiling point\": 373.15,\n",
    "    \"Body temperature\": 36.5 + 273.15,\n",
    "    \"Boiling point of O2\": 90.188,\n",
    "    \"Boiling point of H2\": 20.28,\n",
    "    \"Boiling point of N2\":77.344,\n",
    "    \"Boiling point of He\": 4.216,\n",
    "    \"Melting point of Rhenium\": 3455,\n",
    "    \"Boiling point of Rhenium\": 5870,\n",
    "    \"Melting point of Aluminium\": 933.5,\n",
    "    \"Boiling point of Aluminium\": 2740,\n",
    "    \"Melting point of Silicon\": 1683,\n",
    "    \"Boiling point of Silicon\": 2630,\n",
    "    \"Melting point of Tungsten\": 3695,\n",
    "    \"Boiling point of Tungsten\": 5825,\n",
    "    \"Body temperature\": 37 + 273.15,\n",
    "}"
   ]
  },
  {
   "cell_type": "markdown",
   "metadata": {},
   "source": [
    "\n"
   ]
  },
  {
   "cell_type": "markdown",
   "metadata": {},
   "source": []
  }
 ],
 "metadata": {
  "language_info": {
   "name": "python"
  },
  "orig_nbformat": 4
 },
 "nbformat": 4,
 "nbformat_minor": 2
}
