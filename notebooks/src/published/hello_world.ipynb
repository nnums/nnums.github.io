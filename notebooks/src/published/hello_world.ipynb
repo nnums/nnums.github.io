{
 "cells": [
  {
   "cell_type": "markdown",
   "id": "00b542c1",
   "metadata": {},
   "source": [
    "# Hello World\n",
    "\n",
    "Let's prove that we can render a jupyter notebook with python code, output, and latex onto the website."
   ]
  },
  {
   "cell_type": "code",
   "execution_count": 1,
   "metadata": {},
   "outputs": [
    {
     "data": {
      "text/plain": [
       "11"
      ]
     },
     "execution_count": 1,
     "metadata": {},
     "output_type": "execute_result"
    }
   ],
   "source": [
    "len(\"hello world\")"
   ]
  },
  {
   "cell_type": "markdown",
   "id": "1b31d69d",
   "metadata": {},
   "source": [
    "$$c = \\sqrt{a^2 + b^2}$$"
   ]
  }
 ],
 "metadata": {
  "interpreter": {
   "hash": "df1e22749311c22ae27c41ed11a97876569124fafdf171b571394a7511d84a76"
  },
  "kernelspec": {
   "display_name": "Python 3.9.9 ('venv': venv)",
   "language": "python",
   "name": "python3"
  },
  "language_info": {
   "codemirror_mode": {
    "name": "ipython",
    "version": 3
   },
   "file_extension": ".py",
   "mimetype": "text/x-python",
   "name": "python",
   "nbconvert_exporter": "python",
   "pygments_lexer": "ipython3",
   "version": "3.9.9"
  }
 },
 "nbformat": 4,
 "nbformat_minor": 5
}
