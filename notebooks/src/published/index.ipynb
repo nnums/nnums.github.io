{
 "cells": [
  {
   "cell_type": "markdown",
   "metadata": {},
   "source": [
    "# Nnums Notebooks\n",
    "\n",
    "- [Hello World](/notebooks/hello_world.html)"
   ]
  }
 ],
 "metadata": {
  "language_info": {
   "name": "python"
  },
  "orig_nbformat": 4
 },
 "nbformat": 4,
 "nbformat_minor": 2
}
